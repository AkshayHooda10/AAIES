{
  "nbformat": 4,
  "nbformat_minor": 0,
  "metadata": {
    "colab": {
      "provenance": [],
      "authorship_tag": "ABX9TyO75prMP7CbE47KKCGHXW0N",
      "include_colab_link": true
    },
    "kernelspec": {
      "name": "python3",
      "display_name": "Python 3"
    },
    "language_info": {
      "name": "python"
    }
  },
  "cells": [
    {
      "cell_type": "markdown",
      "metadata": {
        "id": "view-in-github",
        "colab_type": "text"
      },
      "source": [
        "<a href=\"https://colab.research.google.com/github/AkshayHooda10/AAIES/blob/main/Assignment4.ipynb\" target=\"_parent\"><img src=\"https://colab.research.google.com/assets/colab-badge.svg\" alt=\"Open In Colab\"/></a>"
      ]
    },
    {
      "cell_type": "code",
      "source": [
        "import heapq"
      ],
      "metadata": {
        "id": "U4oS-Qc7kjCj"
      },
      "execution_count": 2,
      "outputs": []
    },
    {
      "cell_type": "markdown",
      "source": [
        "Definition of heuristic Functions"
      ],
      "metadata": {
        "id": "3nL7jemukvK4"
      }
    },
    {
      "cell_type": "code",
      "source": [
        "# Define heuristic functions\n",
        "def reach_per_cost(channel):\n",
        "    reach, cost, name = channel\n",
        "    return -reach / cost  # We negate because heapq is a min-heap and we want max priority"
      ],
      "metadata": {
        "id": "eOLYI9ABkyXH"
      },
      "execution_count": 3,
      "outputs": []
    },
    {
      "cell_type": "markdown",
      "source": [
        "Priority Queue Creation"
      ],
      "metadata": {
        "id": "NmKgJDwhk5NO"
      }
    },
    {
      "cell_type": "code",
      "source": [
        "def create_priority_queue(channels, heuristic_function):\n",
        "    \"\"\"\n",
        "    Create a priority queue based on a specified heuristic function.\n",
        "\n",
        "    Args:\n",
        "        channels (list): List of marketing channels as tuples (reach, cost, channel_name).\n",
        "        heuristic_function (function): A function to calculate the priority score for a channel.\n",
        "\n",
        "    Returns:\n",
        "        list: A priority queue of channels.\n",
        "    \"\"\"\n",
        "    # Create a list of (priority, channel) tuples\n",
        "    priorities = [(heuristic_function(channel), channel) for channel in channels]\n",
        "    heapq.heapify(priorities)\n",
        "    return priorities"
      ],
      "metadata": {
        "id": "vg43XYeOk8Hs"
      },
      "execution_count": 4,
      "outputs": []
    },
    {
      "cell_type": "markdown",
      "source": [
        "Greedy Algorithm Defined"
      ],
      "metadata": {
        "id": "3goKX1_BlBuR"
      }
    },
    {
      "cell_type": "code",
      "source": [
        "def allocate_budget(priority_queue, budget):\n",
        "    \"\"\"\n",
        "    Allocate budget greedily based on the priority queue.\n",
        "\n",
        "    Args:\n",
        "        priority_queue (list): A priority queue of channels.\n",
        "        budget (int): The budget constraint.\n",
        "\n",
        "    Returns:\n",
        "        list: A list of allocated channels.\n",
        "    \"\"\"\n",
        "    selected_channels = []\n",
        "\n",
        "    while priority_queue and budget > 0:\n",
        "        _, channel = heapq.heappop(priority_queue)\n",
        "        _, cost, name = channel\n",
        "\n",
        "        if budget >= cost:\n",
        "            budget -= cost\n",
        "            selected_channels.append(name)\n",
        "\n",
        "    return selected_channels"
      ],
      "metadata": {
        "id": "EN3QyUholGBS"
      },
      "execution_count": 5,
      "outputs": []
    },
    {
      "cell_type": "markdown",
      "source": [
        "Main Function"
      ],
      "metadata": {
        "id": "mC4qlu8AlI5R"
      }
    },
    {
      "cell_type": "code",
      "source": [
        "def main():\n",
        "    # Define the marketing channels as tuples (reach, cost, channel_name)\n",
        "    channels = [\n",
        "        (1000, 50, \"Social Media\"),\n",
        "        (1500, 80, \"Email Campaign\"),\n",
        "        (2500, 120, \"Influencer Collaboration\")\n",
        "    ]\n",
        "\n",
        "    # Create a list of marketing channels\n",
        "    priority_queue = create_priority_queue(channels, reach_per_cost)\n",
        "\n",
        "    # Budget constraint\n",
        "    budget = 200\n",
        "\n",
        "    # Allocate budget and print results\n",
        "    selected_channels = allocate_budget(priority_queue, budget)\n",
        "    print(\"Selected channels:\", selected_channels)\n",
        "\n",
        "if __name__ == \"__main__\":\n",
        "    main()\n"
      ],
      "metadata": {
        "colab": {
          "base_uri": "https://localhost:8080/"
        },
        "id": "1GqkAseolKPe",
        "outputId": "c186c680-c1dc-476b-f790-b21f62a43d31"
      },
      "execution_count": 6,
      "outputs": [
        {
          "output_type": "stream",
          "name": "stdout",
          "text": [
            "Selected channels: ['Influencer Collaboration', 'Social Media']\n"
          ]
        }
      ]
    }
  ]
}